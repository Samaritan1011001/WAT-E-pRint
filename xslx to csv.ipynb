{
 "cells": [
  {
   "cell_type": "code",
   "execution_count": 34,
   "metadata": {},
   "outputs": [],
   "source": [
    "import pandas as pd\n",
    "\n",
    "# df = pd.read_excel(r'C:\\Users\\bisar\\Desktop\\Hackathons\\boilermake\\Report47-Appendix-II.xlsx')\n",
    "\n",
    "# dat_frame = pd.read_csv('data.csv')\n",
    "# dat_frame\n",
    "# cols = [\"Product code (FAOSTAT)\",\"Product description (FAOSTAT)\",\"Root product (HS)\",\"Product fraction (pf)\",\"Type\",\"Global average\",\"United States of America\"]\n",
    "# df = df[cols]\n",
    "# df.to_csv (r'C:\\Users\\bisar\\Desktop\\Hackathons\\boilermake\\data.csv', index = None, header=True)\n",
    "\n",
    "df = pd.read_csv('data.csv')\n",
    "cols = [\"Product description (FAOSTAT)\",\"Global average\"]\n",
    "df = df[cols]\n",
    "df.isna().sum()\n",
    "df = df.dropna()\n",
    "df_list = df[\"Product description (FAOSTAT)\"].unique().tolist()\n",
    "df.to_csv (r'C:\\Users\\bisar\\Desktop\\Hackathons\\boilermake\\data.csv', index = None, header=True)\n"
   ]
  }
 ],
 "metadata": {
  "kernelspec": {
   "display_name": "Python 3",
   "language": "python",
   "name": "python3"
  },
  "language_info": {
   "codemirror_mode": {
    "name": "ipython",
    "version": 3
   },
   "file_extension": ".py",
   "mimetype": "text/x-python",
   "name": "python",
   "nbconvert_exporter": "python",
   "pygments_lexer": "ipython3",
   "version": "3.7.6rc1"
  }
 },
 "nbformat": 4,
 "nbformat_minor": 4
}
